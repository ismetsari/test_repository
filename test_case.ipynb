{
 "cells": [
  {
   "cell_type": "code",
   "execution_count": 50,
   "metadata": {},
   "outputs": [],
   "source": [
    "list = [1, 2, \"a\", \"b\", 3, \"c\", \"d\", 4]\n",
    "number_list = []\n",
    "string_list = []\n",
    "number_indexes = []\n",
    "string_indexes = []"
   ]
  },
  {
   "cell_type": "code",
   "execution_count": 51,
   "metadata": {},
   "outputs": [],
   "source": [
    "for element in list:\n",
    "    if isinstance(element, int):\n",
    "        number_list.append(element)\n",
    "        number_indexes.append(list.index(element))\n",
    "\n",
    "    else:\n",
    "        string_list.append(element)\n",
    "        string_indexes.append(list.index(element))"
   ]
  },
  {
   "cell_type": "code",
   "execution_count": 52,
   "metadata": {},
   "outputs": [
    {
     "name": "stdout",
     "output_type": "stream",
     "text": [
      "[0, 1, 4, 7]\n",
      "[1, 2, 3, 4]\n",
      "['a', 'b', 'c', 'd']\n",
      "[2, 3, 5, 6]\n"
     ]
    }
   ],
   "source": [
    "print(number_indexes)\n",
    "print(number_list)\n",
    "print(string_list)\n",
    "print(string_indexes)\n"
   ]
  },
  {
   "cell_type": "code",
   "execution_count": 53,
   "metadata": {},
   "outputs": [],
   "source": [
    "for i in range (0,len(number_list)):\n",
    "    del list[number_indexes[i]]\n",
    "    list.insert(number_indexes[i], number_list[::-1][i])"
   ]
  },
  {
   "cell_type": "code",
   "execution_count": 54,
   "metadata": {},
   "outputs": [
    {
     "data": {
      "text/plain": [
       "[4, 3, 'a', 'b', 2, 'c', 'd', 1]"
      ]
     },
     "execution_count": 54,
     "metadata": {},
     "output_type": "execute_result"
    }
   ],
   "source": [
    "list"
   ]
  },
  {
   "cell_type": "code",
   "execution_count": null,
   "metadata": {},
   "outputs": [],
   "source": []
  }
 ],
 "metadata": {
  "kernelspec": {
   "display_name": "Python 3",
   "language": "python",
   "name": "python3"
  },
  "language_info": {
   "codemirror_mode": {
    "name": "ipython",
    "version": 3
   },
   "file_extension": ".py",
   "mimetype": "text/x-python",
   "name": "python",
   "nbconvert_exporter": "python",
   "pygments_lexer": "ipython3",
   "version": "3.11.2"
  },
  "orig_nbformat": 4
 },
 "nbformat": 4,
 "nbformat_minor": 2
}
