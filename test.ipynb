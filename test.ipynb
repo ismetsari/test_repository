{
 "cells": [
  {
   "cell_type": "code",
   "execution_count": 108,
   "metadata": {},
   "outputs": [],
   "source": [
    "my_list = [6, 18, 22, 38, 96, 113]\n",
    "divisor_list = []"
   ]
  },
  {
   "cell_type": "code",
   "execution_count": 109,
   "metadata": {},
   "outputs": [],
   "source": [
    "for number in my_list:\n",
    "    divisors = []\n",
    "    for i in range(2, number):\n",
    "        if number % i == 0:\n",
    "            divisors.append(i)\n",
    "    if len(divisors) == 4:\n",
    "        divisor_list.append(divisors)"
   ]
  },
  {
   "cell_type": "code",
   "execution_count": 110,
   "metadata": {},
   "outputs": [
    {
     "name": "stdout",
     "output_type": "stream",
     "text": [
      "Number with 4 divisors in this list is 18 and divisors of 18 are [2, 3, 6, 9]\n"
     ]
    }
   ],
   "source": [
    "result = divisor_list[0][0] * divisor_list[0][-1]\n",
    "print(\"Number with 4 divisors in this list is\", result, \"and divisors of\", result, \"are\", *divisor_list)"
   ]
  }
 ],
 "metadata": {
  "kernelspec": {
   "display_name": "Python 3",
   "language": "python",
   "name": "python3"
  },
  "language_info": {
   "codemirror_mode": {
    "name": "ipython",
    "version": 3
   },
   "file_extension": ".py",
   "mimetype": "text/x-python",
   "name": "python",
   "nbconvert_exporter": "python",
   "pygments_lexer": "ipython3",
   "version": "3.11.2"
  },
  "orig_nbformat": 4
 },
 "nbformat": 4,
 "nbformat_minor": 2
}
